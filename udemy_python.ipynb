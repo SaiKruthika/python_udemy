{
 "cells": [
  {
   "cell_type": "code",
   "execution_count": 1,
   "id": "f0061b1c",
   "metadata": {},
   "outputs": [
    {
     "name": "stdout",
     "output_type": "stream",
     "text": [
      "i love u\n"
     ]
    }
   ],
   "source": [
    "print(\"i love u\")"
   ]
  },
  {
   "cell_type": "code",
   "execution_count": 2,
   "id": "a301417c",
   "metadata": {},
   "outputs": [
    {
     "name": "stdout",
     "output_type": "stream",
     "text": [
      "6\n"
     ]
    }
   ],
   "source": [
    "A,B = 2,4\n",
    "result = A+B\n",
    "print(result)"
   ]
  },
  {
   "cell_type": "code",
   "execution_count": 11,
   "id": "7a7adb60",
   "metadata": {},
   "outputs": [
    {
     "name": "stdout",
     "output_type": "stream",
     "text": [
      "kruthi kruthi\n",
      "4\n",
      "6.65\n"
     ]
    }
   ],
   "source": [
    "a=2\n",
    "b=4.65\n",
    "name='kruthi'\n",
    "con=name+\" \"+name\n",
    "print(con)\n",
    "num_con=a+a\n",
    "print(num_con)\n",
    "total=a+b\n",
    "print(total)"
   ]
  },
  {
   "cell_type": "code",
   "execution_count": 12,
   "id": "f54e07db",
   "metadata": {},
   "outputs": [
    {
     "name": "stdout",
     "output_type": "stream",
     "text": [
      "<class 'int'>\n"
     ]
    }
   ],
   "source": [
    "print(type(10))"
   ]
  },
  {
   "cell_type": "code",
   "execution_count": 23,
   "id": "41577b81",
   "metadata": {},
   "outputs": [
    {
     "ename": "AssertionError",
     "evalue": "hello",
     "output_type": "error",
     "traceback": [
      "\u001b[1;31m---------------------------------------------------------------------------\u001b[0m",
      "\u001b[1;31mAssertionError\u001b[0m                            Traceback (most recent call last)",
      "Input \u001b[1;32mIn [23]\u001b[0m, in \u001b[0;36m<cell line: 7>\u001b[1;34m()\u001b[0m\n\u001b[0;32m      4\u001b[0m \u001b[38;5;28;01massert\u001b[39;00m x \u001b[38;5;241m==\u001b[39m \u001b[38;5;124m\"\u001b[39m\u001b[38;5;124mhello\u001b[39m\u001b[38;5;124m\"\u001b[39m\n\u001b[0;32m      6\u001b[0m \u001b[38;5;66;03m#if condition returns False, AssertionError is raised:\u001b[39;00m\n\u001b[1;32m----> 7\u001b[0m \u001b[38;5;28;01massert\u001b[39;00m x \u001b[38;5;241m==\u001b[39m \u001b[38;5;124m\"\u001b[39m\u001b[38;5;124mgoodbye\u001b[39m\u001b[38;5;124m\"\u001b[39m,\u001b[38;5;124m\"\u001b[39m\u001b[38;5;124mhello\u001b[39m\u001b[38;5;124m\"\u001b[39m\n",
      "\u001b[1;31mAssertionError\u001b[0m: hello"
     ]
    }
   ],
   "source": [
    "x = \"hello\"\n",
    "\n",
    "#if condition returns True, then nothing happens:\n",
    "assert x == \"hello\"\n",
    "\n",
    "#if condition returns False, AssertionError is raised:\n",
    "assert x == \"goodbye\",\"hello\""
   ]
  },
  {
   "cell_type": "code",
   "execution_count": 40,
   "id": "d8dd094a",
   "metadata": {},
   "outputs": [
    {
     "name": "stdout",
     "output_type": "stream",
     "text": [
      "python3\n",
      "      \n",
      "this is single line stmt\n",
      "      \n",
      "this is\n",
      "multi-line\n",
      "stmts\n",
      "24\n",
      "      \n",
      "final statement hello am kruthi\n"
     ]
    }
   ],
   "source": [
    "a = \"python\"\n",
    "b = \"3\"\n",
    "c = a+b\n",
    "print(c)\n",
    "print(\"      \")\n",
    "stmt = \"this is single line stmt\"\n",
    "print(stmt)\n",
    "print(\"      \")\n",
    "stmt1 = \"\"\"this is\n",
    "multi-line\n",
    "stmts\"\"\"\n",
    "print(stmt1)\n",
    "print(len(stmt1))\n",
    "print(\"      \")\n",
    "me = \"hello am kruthi\"\n",
    "print(\"final statement %s\"%me)"
   ]
  },
  {
   "cell_type": "code",
   "execution_count": null,
   "id": "f25e7030",
   "metadata": {},
   "outputs": [],
   "source": [
    "# %s\n",
    "#It is used as a placeholder for string values. \n",
    "#Uses string conversion via str() before formatting.\n",
    "# %s can accept numeric values also and it automatically does the type conversion.  "
   ]
  },
  {
   "cell_type": "code",
   "execution_count": null,
   "id": "bf3a19fa",
   "metadata": {},
   "outputs": [],
   "source": [
    "# %d\n",
    "# It is used as a placeholder for numeric values.\n",
    "# Uses decimal conversion via int() before formatting.\n",
    "# In case a string is specified for %d operator a type error is returned."
   ]
  },
  {
   "cell_type": "code",
   "execution_count": 31,
   "id": "4c02f459",
   "metadata": {},
   "outputs": [
    {
     "name": "stdout",
     "output_type": "stream",
     "text": [
      "<class 'int'>\n",
      "<class 'str'>\n",
      "<class 'float'>\n",
      "<class 'bool'>\n",
      "<class 'complex'>\n"
     ]
    }
   ],
   "source": [
    "a = 10\n",
    "b = \"kruthi\"\n",
    "c = 12.43\n",
    "d = True\n",
    "print(type(a))\n",
    "print(type(b))\n",
    "print(type(c))\n",
    "print(type(d))\n",
    "print(type(5+8j))"
   ]
  },
  {
   "cell_type": "code",
   "execution_count": 33,
   "id": "40f03835",
   "metadata": {},
   "outputs": [
    {
     "name": "stdout",
     "output_type": "stream",
     "text": [
      "hello\n",
      "hello\n"
     ]
    }
   ],
   "source": [
    "a = \"hello\"\n",
    "print(a)\n",
    "a = 'hello'\n",
    "print(a)"
   ]
  },
  {
   "cell_type": "code",
   "execution_count": 37,
   "id": "19cf5a10",
   "metadata": {},
   "outputs": [
    {
     "name": "stdout",
     "output_type": "stream",
     "text": [
      "7 17 22 33\n",
      "19\n"
     ]
    }
   ],
   "source": [
    "name = \"hello!!\"\n",
    "name2 = \"my name is kruthi\"\n",
    "tmp = \"{Name} am good {Name2}\"\n",
    "t = tmp.format(Name=name,Name2=name2)\n",
    "len_name = len(name)\n",
    "len_name2 = len(name2)\n",
    "len_tmp = len(tmp)\n",
    "len_t = len(t)\n",
    "print(len_name,len_name2,len_tmp,len_t)\n",
    "stg=\"my name is kruthika\"\n",
    "print(len(stg))"
   ]
  },
  {
   "cell_type": "code",
   "execution_count": 58,
   "id": "8005d4a6",
   "metadata": {},
   "outputs": [
    {
     "name": "stdout",
     "output_type": "stream",
     "text": [
      "True\n",
      "4.6\n"
     ]
    }
   ],
   "source": [
    "#operators\n",
    "a=1\n",
    "b=10\n",
    "c=a!=b\n",
    "print(c)\n",
    "print (23/5)"
   ]
  },
  {
   "cell_type": "code",
   "execution_count": 60,
   "id": "0ccae834",
   "metadata": {},
   "outputs": [
    {
     "name": "stdout",
     "output_type": "stream",
     "text": [
      "kruthi\n",
      "madhu\n",
      "sai\n",
      "1\n",
      "3\n",
      "6\n",
      "10\n",
      "15\n",
      "21\n"
     ]
    }
   ],
   "source": [
    "# for statement in python\n",
    "names = \"kruthi\",\"madhu\",\"sai\"\n",
    "for name in names:\n",
    "    print(name)\n",
    "number=0\n",
    "for n in range(1,7):\n",
    "    number+=n\n",
    "    print(number)"
   ]
  },
  {
   "cell_type": "code",
   "execution_count": 63,
   "id": "41ede90e",
   "metadata": {},
   "outputs": [
    {
     "name": "stdout",
     "output_type": "stream",
     "text": [
      "total value is 135\n"
     ]
    }
   ],
   "source": [
    "#while loop\n",
    "total=0\n",
    "num=20\n",
    "while(num<=25):\n",
    "    total+=num\n",
    "    num+=1\n",
    "print(\"total value is\",total)"
   ]
  },
  {
   "cell_type": "code",
   "execution_count": 69,
   "id": "49eb848b",
   "metadata": {},
   "outputs": [
    {
     "name": "stdout",
     "output_type": "stream",
     "text": [
      "charecter : K\n",
      "charecter : r\n",
      "charecter : u\n",
      "charecter : t\n",
      "charecter : h\n",
      "charecter : i\n",
      "--------------------------\n",
      "charecter : K\n",
      "charecter : r\n",
      "charecter : u\n",
      "charecter : t\n",
      "charecter : h\n",
      "charecter : i\n",
      "charecter : a\n",
      "--------------------------\n",
      "charecter : K\n",
      "charecter : r\n",
      "charecter : u\n",
      "charecter : t\n",
      "charecter : h\n",
      "charecter : i\n",
      "charecter : k\n",
      "charecter : a\n"
     ]
    }
   ],
   "source": [
    "#break, continue and pass statements\n",
    "for char in \"Kruthika\":\n",
    "    if(char==\"k\"):\n",
    "        break\n",
    "    print(\"charecter :\",char)\n",
    "print(\"--------------------------\")\n",
    "for char in \"Kruthika\":\n",
    "    if(char==\"k\"):\n",
    "        continue\n",
    "    print(\"charecter :\",char)\n",
    "print(\"--------------------------\")\n",
    "for char in \"Kruthika\":\n",
    "    if(char==\"k\"):\n",
    "        pass\n",
    "    print(\"charecter :\",char)\n",
    "#pass is used to ignore the part at which it is used,so that it can be implemented in the future or just to getrid of the errors"
   ]
  },
  {
   "cell_type": "code",
   "execution_count": 1,
   "id": "6406e5ee",
   "metadata": {},
   "outputs": [
    {
     "name": "stdout",
     "output_type": "stream",
     "text": [
      "4 , 2\n"
     ]
    }
   ],
   "source": [
    "#nested loops\n",
    "x=4\n",
    "y=2\n",
    "while x<5:\n",
    "    while y<3:\n",
    "        print(x,\",\",y)\n",
    "        x+=1\n",
    "        y+=1"
   ]
  },
  {
   "cell_type": "code",
   "execution_count": 5,
   "id": "cae0b99c",
   "metadata": {},
   "outputs": [
    {
     "name": "stdout",
     "output_type": "stream",
     "text": [
      "7\n",
      "9\n",
      "11\n",
      "13\n",
      "15\n",
      "17\n",
      "19\n",
      "21\n"
     ]
    }
   ],
   "source": [
    "#variation is i=5 and while loop condition is (i<20) add i+2 and print (i)\n",
    "i=5\n",
    "while i<20:\n",
    "    i+=2\n",
    "    print(i)"
   ]
  },
  {
   "cell_type": "code",
   "execution_count": 8,
   "id": "9f09e452",
   "metadata": {},
   "outputs": [
    {
     "name": "stdout",
     "output_type": "stream",
     "text": [
      "enter the input : kruthi\n",
      "u\n",
      "i\n"
     ]
    }
   ],
   "source": [
    "name=input(\"enter the input : \")\n",
    "for x in name:\n",
    "    if(x==\"a\" or x==\"e\" or x==\"i\" or x==\"o\" or x==\"u\" or x==\"A\" or x==\"E\" or x==\"I\" or x==\"O\" or x==\"U\"):\n",
    "        print(x)"
   ]
  },
  {
   "cell_type": "code",
   "execution_count": 10,
   "id": "cde234c5",
   "metadata": {},
   "outputs": [
    {
     "name": "stdout",
     "output_type": "stream",
     "text": [
      "0\n",
      "1\n",
      "2\n",
      "3\n",
      "end of the loop\n",
      "-----------------------\n",
      "a is small\n",
      "a is big\n"
     ]
    }
   ],
   "source": [
    "#loops with else block of code\n",
    "for x in range(4):\n",
    "    print(x)\n",
    "else :\n",
    "    print(\"end of the loop\")\n",
    "print(\"-----------------------\")\n",
    "a,b = 4,5\n",
    "while a<b:\n",
    "    print(\"a is small\")\n",
    "    a+=1\n",
    "    b-=1\n",
    "else :\n",
    "    print(\"a is big\")"
   ]
  },
  {
   "cell_type": "code",
   "execution_count": 14,
   "id": "6b07d8b0",
   "metadata": {},
   "outputs": [
    {
     "name": "stdout",
     "output_type": "stream",
     "text": [
      "enter a number : 7\n",
      "0\n",
      "1\n",
      "1\n",
      "2\n",
      "3\n",
      "5\n",
      "8\n"
     ]
    }
   ],
   "source": [
    "num=int(input(\"enter a number : \"))\n",
    "i,j = 0,1\n",
    "count=0\n",
    "if num==1:\n",
    "    print(i)\n",
    "else:\n",
    "    while (count<num):\n",
    "        print(i)\n",
    "        x=i+j\n",
    "        i=j\n",
    "        j=x\n",
    "        count+=1"
   ]
  },
  {
   "cell_type": "code",
   "execution_count": 15,
   "id": "2ca14916",
   "metadata": {},
   "outputs": [
    {
     "name": "stdout",
     "output_type": "stream",
     "text": [
      "How many numbers that generates?:8\n",
      "[1, 1, 2, 3, 5, 8, 13, 21]\n"
     ]
    }
   ],
   "source": [
    "def fibonacci():\n",
    "    num = int(input(\"How many numbers that generates?:\")) #taking user input here with input function\n",
    "    i = 1 # the value of i here is 1\n",
    "    if num == 0: #if num == 0 which means that if number will = to 0 then \n",
    "        fib = [] #this string will be printed\n",
    "    elif num == 1: #if number == 1 so that will start from 1 and so on\n",
    "        fib = [1]\n",
    "    elif num == 2:\n",
    "        fib = [1,1]\n",
    "    elif num > 2:\n",
    "        fib = [1,1]\n",
    "        while i < (num - 1):\n",
    "            fib.append(fib[i] + fib[i-1]) #fibonacci logic\n",
    "            i += 1\n",
    "    return fib\n",
    "print(fibonacci()) #printing fibonacci funtion here"
   ]
  },
  {
   "cell_type": "code",
   "execution_count": 23,
   "id": "3bf32585",
   "metadata": {},
   "outputs": [
    {
     "name": "stdout",
     "output_type": "stream",
     "text": [
      "one\n",
      "two\n",
      "three\n",
      "---------------------\n",
      "average of  10 and  2 is  6.0\n"
     ]
    }
   ],
   "source": [
    "#function\n",
    "def fun():\n",
    "    print(\"one\")\n",
    "    print(\"two\")\n",
    "    print(\"three\")\n",
    "fun()  #calling function\n",
    "\n",
    "print(\"---------------------\")\n",
    "\n",
    "def avg(x,y):\n",
    "    #x,y = 3,5\n",
    "    print(\"average of \",x,\"and \",y,\"is \",(x+y)/2)\n",
    "avg(10,2)"
   ]
  },
  {
   "cell_type": "code",
   "execution_count": 26,
   "id": "f263e089",
   "metadata": {},
   "outputs": [
    {
     "name": "stdout",
     "output_type": "stream",
     "text": [
      "600 41 4\n"
     ]
    }
   ],
   "source": [
    "def sum(x,y=1):\n",
    "    return x+y\n",
    "s1=sum(200,400)  #x=200,y=400\n",
    "s2=sum(40)       #x=40,y=1\n",
    "s3=sum(3)        #x=3,y=1\n",
    "print(s1,s2,s3)"
   ]
  },
  {
   "cell_type": "code",
   "execution_count": 27,
   "id": "046510df",
   "metadata": {},
   "outputs": [
    {
     "name": "stdout",
     "output_type": "stream",
     "text": [
      "outer function is returned\n",
      "inner function is required\n"
     ]
    }
   ],
   "source": [
    "#nested function\n",
    "def outerfunction():\n",
    "    print(\"outer function is returned\")\n",
    "    def innerfunction():\n",
    "        print(\"inner function is required\")\n",
    "    innerfunction()\n",
    "outerfunction()"
   ]
  },
  {
   "cell_type": "code",
   "execution_count": 29,
   "id": "fd0bb1b9",
   "metadata": {},
   "outputs": [
    {
     "name": "stdout",
     "output_type": "stream",
     "text": [
      "80\n"
     ]
    }
   ],
   "source": [
    "def num(x):\n",
    "    def num1(y):\n",
    "        return x*y\n",
    "    return num1\n",
    "result=num(20)\n",
    "print(result(4))"
   ]
  },
  {
   "cell_type": "code",
   "execution_count": 31,
   "id": "07150ae5",
   "metadata": {},
   "outputs": [
    {
     "name": "stdout",
     "output_type": "stream",
     "text": [
      "27\n",
      "value of tan is : -0.1425465430742778\n"
     ]
    }
   ],
   "source": [
    "#module\n",
    "import math\n",
    "x = pow(3,3)\n",
    "print(x)\n",
    "print(\"value of tan is :\",math.tan(3))"
   ]
  },
  {
   "cell_type": "code",
   "execution_count": 34,
   "id": "27f5b62f",
   "metadata": {},
   "outputs": [
    {
     "name": "stdout",
     "output_type": "stream",
     "text": [
      "Printing current and previous number sum in a range(9)\n",
      "Current Number 0 Previous Number  0  Sum:  0\n",
      "Current Number 1 Previous Number  0  Sum:  1\n",
      "Current Number 2 Previous Number  1  Sum:  3\n",
      "Current Number 3 Previous Number  2  Sum:  5\n",
      "Current Number 4 Previous Number  3  Sum:  7\n",
      "Current Number 5 Previous Number  4  Sum:  9\n",
      "Current Number 6 Previous Number  5  Sum:  11\n",
      "Current Number 7 Previous Number  6  Sum:  13\n",
      "Current Number 8 Previous Number  7  Sum:  15\n",
      "Current Number 9 Previous Number  8  Sum:  17\n",
      "Current Number 10 Previous Number  9  Sum:  19\n",
      "Current Number 11 Previous Number  10  Sum:  21\n",
      "Current Number 12 Previous Number  11  Sum:  23\n",
      "Current Number 13 Previous Number  12  Sum:  25\n",
      "Current Number 14 Previous Number  13  Sum:  27\n",
      "Current Number 15 Previous Number  14  Sum:  29\n",
      "Current Number 16 Previous Number  15  Sum:  31\n",
      "Current Number 17 Previous Number  16  Sum:  33\n",
      "Current Number 18 Previous Number  17  Sum:  35\n",
      "Current Number 19 Previous Number  18  Sum:  37\n"
     ]
    }
   ],
   "source": [
    "def sumNum(num):\n",
    "    previousNum = 0\n",
    "    for i in range(num):\n",
    "        sum = previousNum + i\n",
    "        print(\"Current Number\", i, \"Previous Number \", previousNum,\" Sum: \", sum)\n",
    "        previousNum = i\n",
    "\n",
    "print(\"Printing current and previous number sum in a range(9)\")\n",
    "sumNum(20)"
   ]
  },
  {
   "cell_type": "code",
   "execution_count": 39,
   "id": "2eeecbf9",
   "metadata": {},
   "outputs": [
    {
     "name": "stdout",
     "output_type": "stream",
     "text": [
      "Employee bob salary is: 5000\n",
      "Employee  salary is: 8\n"
     ]
    }
   ],
   "source": [
    "def showEmployee(name, salary=2000):\n",
    "    print(\"Employee\", name, \"salary is:\", salary)\n",
    "showEmployee(\"bob\", 5000)\n",
    "showEmployee(\"\",8)"
   ]
  },
  {
   "cell_type": "code",
   "execution_count": 40,
   "id": "a3405cd8",
   "metadata": {},
   "outputs": [
    {
     "data": {
      "text/plain": [
       "(5, 1)"
      ]
     },
     "execution_count": 40,
     "metadata": {},
     "output_type": "execute_result"
    }
   ],
   "source": [
    "def calculate(x,y):\n",
    "     return x+y,x-y\n",
    "calculate(3,2)"
   ]
  },
  {
   "cell_type": "code",
   "execution_count": 10,
   "id": "cb5c3fdf",
   "metadata": {},
   "outputs": [
    {
     "name": "stdout",
     "output_type": "stream",
     "text": [
      "o Kruthi\n",
      "o Kruthika\n",
      "Hello Kruthikax\n",
      "axy\n",
      "\n"
     ]
    }
   ],
   "source": [
    "name = \"Hello Kruthikaxyz\"\n",
    "print(name[4:12])\n",
    "print(name[4:-3])\n",
    "print(name[:-2])\n",
    "print(name[-4:-1])\n",
    "print(name[-1:-5])"
   ]
  },
  {
   "cell_type": "code",
   "execution_count": 26,
   "id": "e8909498",
   "metadata": {},
   "outputs": [
    {
     "name": "stdout",
     "output_type": "stream",
     "text": [
      "hel\n",
      " am he\n",
      "hellooo sai babuuu ;-*\n"
     ]
    }
   ],
   "source": [
    "name = \"hello am here love ;-*\"\n",
    "s1 = slice(3)\n",
    "s2=slice(5,11)\n",
    "print(name[s1])\n",
    "print(name[s2])\n",
    "print(\"hellooo sai babuuu ;-*\")"
   ]
  },
  {
   "cell_type": "code",
   "execution_count": 32,
   "id": "98bb28ac",
   "metadata": {},
   "outputs": [
    {
     "name": "stdout",
     "output_type": "stream",
     "text": [
      "H\n",
      "w\n"
     ]
    }
   ],
   "source": [
    "#remove the value of the index value\n",
    "def value(str):\n",
    "    result=\"\"\n",
    "    for a in range(len(str)):\n",
    "        if a%2==0:\n",
    "            result+=str[a]\n",
    "        return result\n",
    "print(value(\"Hello am kruthi\"))\n",
    "print(value(\"wife of raghava\"))"
   ]
  },
  {
   "cell_type": "code",
   "execution_count": 33,
   "id": "1bdebb83",
   "metadata": {},
   "outputs": [
    {
     "name": "stdout",
     "output_type": "stream",
     "text": [
      "[10, 20, 30, 40, 50]\n",
      "[10, 20, 30, 40, 50, 60]\n"
     ]
    }
   ],
   "source": [
    "#append\n",
    "nums = [10,20,30,40,50]\n",
    "print(nums)\n",
    "nums.append(60)\n",
    "print(nums)"
   ]
  },
  {
   "cell_type": "code",
   "execution_count": 38,
   "id": "41d646ec",
   "metadata": {},
   "outputs": [
    {
     "name": "stdout",
     "output_type": "stream",
     "text": [
      "for only in 10 dollars\n"
     ]
    }
   ],
   "source": [
    "#string format method\n",
    "var = \"for only in {price:2} dollars\"\n",
    "print(var.format(price=10))"
   ]
  },
  {
   "cell_type": "code",
   "execution_count": 52,
   "id": "2a85fb3e",
   "metadata": {},
   "outputs": [
    {
     "name": "stdout",
     "output_type": "stream",
     "text": [
      "name[:-5] : XYZ LET US GO TO BED\n",
      "name[-3] : B\n",
      "name[3] : D\n",
      "name[1:6] : BCDEF\n",
      "name[-4] : ABCD\n"
     ]
    }
   ],
   "source": [
    "#string indexing and slicing\n",
    "name = \"ABCDEFGHIJKLMOPQRSTUVWXYZ LET US GO TO BED\"\n",
    "print(\"name[:-5] : %s\"%name[22:])\n",
    "print(\"name[-3] : %s\"%name[-3])\n",
    "print(\"name[3] : %s\"%name[3])\n",
    "print(\"name[1:6] : %s\"%name[1:6])\n",
    "print(\"name[-4] : %s\"%name[:4])"
   ]
  },
  {
   "cell_type": "code",
   "execution_count": 64,
   "id": "e316ee8e",
   "metadata": {},
   "outputs": [
    {
     "name": "stdout",
     "output_type": "stream",
     "text": [
      "KRUTHIKA\n",
      "kruthika\n"
     ]
    }
   ],
   "source": [
    "#captilization\n",
    "def upper1(str):\n",
    "    uppervar = 0\n",
    "    for i in str:\n",
    "        if i.upper()==i:\n",
    "            uppervar += 1\n",
    "    if uppervar>=2:\n",
    "        return str.upper()\n",
    "    return str\n",
    "    \n",
    "print(upper1(\"krUTHiKa\"))  \n",
    "\n",
    "#de-captilization\n",
    "def lower1(str):\n",
    "    lowervar = 0\n",
    "    for i in str:\n",
    "        if i.lower()==i:\n",
    "            lowervar += 1\n",
    "    if lowervar>=2:\n",
    "        return str.lower()\n",
    "    return str\n",
    "    \n",
    "print(lower1(\"krUTHiKA\"))  \n",
    "\n"
   ]
  },
  {
   "cell_type": "code",
   "execution_count": 66,
   "id": "41330109",
   "metadata": {},
   "outputs": [
    {
     "name": "stdout",
     "output_type": "stream",
     "text": [
      "u\n",
      "44\n"
     ]
    }
   ],
   "source": [
    "#max character\n",
    "say = max(\"kruthika\")\n",
    "print(say)\n",
    "nums = max(10,20,40,2,44)\n",
    "print(nums)"
   ]
  },
  {
   "cell_type": "code",
   "execution_count": 67,
   "id": "cda619de",
   "metadata": {},
   "outputs": [
    {
     "name": "stdout",
     "output_type": "stream",
     "text": [
      "Enter your name :kruthi\n",
      "Hello kruthi\n"
     ]
    }
   ],
   "source": [
    "#user input\n",
    "i = input(\"Enter your name :\")\n",
    "print(\"Hello \"+i)"
   ]
  },
  {
   "cell_type": "code",
   "execution_count": 72,
   "id": "e6cbf4bc",
   "metadata": {},
   "outputs": [
    {
     "name": "stdout",
     "output_type": "stream",
     "text": [
      "Enter number\n",
      "3\n",
      "3\n"
     ]
    }
   ],
   "source": [
    "#prime number program\n",
    "\n",
    "print(\"Enter number\") #this will be your first output result where you will add your number\n",
    "number = int(input()) #Python has an input function which lets you ask a user for some text input. You call this function to tell the program to stop and wait for the user to key in the data.\n",
    "i = 2 #we take 1=2 because you always start factorial from 2\n",
    "while (i <= number): #while loop i<=number because if number is best then 2 the loop will execute if not loop terminated\n",
    "  #Checking if prime or not \n",
    "  j = 2    \n",
    "  count = 0 #the counting strat from 0\n",
    "  while (j <= i): #if j=2 or > 2 so count will start like 1+1=2 2+1=3 \n",
    "    if (i%j) == 0:\n",
    "      count = count+1\n",
    "    j = j+1\n",
    "  #if count > 1 then it is not prime\n",
    "  #if prime and factor(number%i==0) then it is prime factor\n",
    "  if (count <= 1 and number%i == 0):\n",
    "    print(i)\n",
    "  i = i+1"
   ]
  },
  {
   "cell_type": "code",
   "execution_count": 82,
   "id": "22d5c5a4",
   "metadata": {},
   "outputs": [
    {
     "name": "stdout",
     "output_type": "stream",
     "text": [
      "Enter number to reverse: 9876\n",
      "Reverse of the number is: 6789\n"
     ]
    }
   ],
   "source": [
    "#reverse of a number\n",
    "number=int(input(\"Enter number to reverse: \"))\n",
    "rev=0\n",
    "while(number>0): \n",
    "    dig=number%10 \n",
    "    rev=rev*10+dig\n",
    "    number=number//10\n",
    "print(\"Reverse of the number is:\",rev)"
   ]
  },
  {
   "cell_type": "code",
   "execution_count": 18,
   "id": "6f7a4303",
   "metadata": {},
   "outputs": [
    {
     "name": "stdout",
     "output_type": "stream",
     "text": [
      "[]\n",
      "[1, 2, 3, 4]\n",
      "[3]\n",
      "[7, 8, 9, 'kruthi', 'ha nene']\n",
      "['sai', 1]\n",
      "['sai']\n"
     ]
    }
   ],
   "source": [
    "#list operations\n",
    "#index(), append(), clear(), remove(), pop(), extend(), count(), insert(),\n",
    "#reversed(), sorted()\n",
    "l = []\n",
    "print(l)\n",
    "l2 = [1,2,3,4]\n",
    "print(l2)\n",
    "print(l2[2:-1])\n",
    "l3 = [7,8,9,\"kruthi\",\"ha nene\"]\n",
    "print(l3)\n",
    "\n",
    "l.append(\"sai\")\n",
    "l.append(1)\n",
    "print(l)\n",
    "l.remove(1)\n",
    "print(l)"
   ]
  },
  {
   "cell_type": "code",
   "execution_count": 13,
   "id": "54679d7d",
   "metadata": {},
   "outputs": [
    {
     "name": "stdout",
     "output_type": "stream",
     "text": [
      "['kruthi', 'kruthika', 'kutie', 'kutti', 'pappu']\n",
      "['kruthi', 'kruthika', 'T.kruthika', 'kutti', 'pappu']\n"
     ]
    }
   ],
   "source": [
    "#changing list values\n",
    "list = [\"kruthi\",\"kruthika\",\"kutie\",\"kutti\",\"pappu\"]\n",
    "print(list)\n",
    "list[2] =\"T.kruthika\" \n",
    "print(list)"
   ]
  },
  {
   "cell_type": "code",
   "execution_count": 23,
   "id": "b0e5b339",
   "metadata": {},
   "outputs": [
    {
     "name": "stdout",
     "output_type": "stream",
     "text": [
      "['me@gmail.com', 'you@gmail.com']\n"
     ]
    }
   ],
   "source": [
    "list = [\"me@gmail.com\", \"you@gmail.com\"]\n",
    "print(list)"
   ]
  },
  {
   "cell_type": "code",
   "execution_count": 24,
   "id": "1f86b97d",
   "metadata": {},
   "outputs": [
    {
     "name": "stdout",
     "output_type": "stream",
     "text": [
      "['me@gmail.com', 'you@gmail.com']\n"
     ]
    },
    {
     "ename": "TypeError",
     "evalue": "'list' object is not callable",
     "output_type": "error",
     "traceback": [
      "\u001b[1;31m---------------------------------------------------------------------------\u001b[0m",
      "\u001b[1;31mTypeError\u001b[0m                                 Traceback (most recent call last)",
      "Input \u001b[1;32mIn [24]\u001b[0m, in \u001b[0;36m<cell line: 4>\u001b[1;34m()\u001b[0m\n\u001b[0;32m      1\u001b[0m \u001b[38;5;28mlist\u001b[39m \u001b[38;5;241m=\u001b[39m [\u001b[38;5;124m\"\u001b[39m\u001b[38;5;124mme@gmail.com\u001b[39m\u001b[38;5;124m\"\u001b[39m, \u001b[38;5;124m\"\u001b[39m\u001b[38;5;124myou@gmail.com\u001b[39m\u001b[38;5;124m\"\u001b[39m]\n\u001b[0;32m      2\u001b[0m \u001b[38;5;28mprint\u001b[39m(\u001b[38;5;28mlist\u001b[39m)\n\u001b[1;32m----> 4\u001b[0m list1 \u001b[38;5;241m=\u001b[39m \u001b[38;5;28;43mlist\u001b[39;49m\u001b[43m(\u001b[49m\u001b[43m)\u001b[49m\n\u001b[0;32m      5\u001b[0m list1\u001b[38;5;241m.\u001b[39mappend(\u001b[38;5;124m\"\u001b[39m\u001b[38;5;124mus@gmail.com\u001b[39m\u001b[38;5;124m\"\u001b[39m)\n\u001b[0;32m      6\u001b[0m list1\u001b[38;5;241m.\u001b[39mappend(\u001b[38;5;124m\"\u001b[39m\u001b[38;5;124mwe@gmail.com\u001b[39m\u001b[38;5;124m\"\u001b[39m)\n",
      "\u001b[1;31mTypeError\u001b[0m: 'list' object is not callable"
     ]
    }
   ],
   "source": [
    "list = [\"me@gmail.com\", \"you@gmail.com\"]\n",
    "print(list)\n",
    "\n",
    "list1 = list()\n",
    "list1.append(\"us@gmail.com\")\n",
    "list1.append(\"we@gmail.com\")\n",
    "print(list1)"
   ]
  },
  {
   "cell_type": "code",
   "execution_count": 25,
   "id": "f439ecd1",
   "metadata": {},
   "outputs": [
    {
     "ename": "TypeError",
     "evalue": "'list' object is not callable",
     "output_type": "error",
     "traceback": [
      "\u001b[1;31m---------------------------------------------------------------------------\u001b[0m",
      "\u001b[1;31mTypeError\u001b[0m                                 Traceback (most recent call last)",
      "Input \u001b[1;32mIn [25]\u001b[0m, in \u001b[0;36m<cell line: 1>\u001b[1;34m()\u001b[0m\n\u001b[1;32m----> 1\u001b[0m list1 \u001b[38;5;241m=\u001b[39m \u001b[38;5;28;43mlist\u001b[39;49m\u001b[43m(\u001b[49m\u001b[43m)\u001b[49m\n\u001b[0;32m      2\u001b[0m list1\u001b[38;5;241m.\u001b[39mappend(\u001b[38;5;124m\"\u001b[39m\u001b[38;5;124mus@gmail.com\u001b[39m\u001b[38;5;124m\"\u001b[39m)\n\u001b[0;32m      3\u001b[0m list1\u001b[38;5;241m.\u001b[39mappend(\u001b[38;5;124m\"\u001b[39m\u001b[38;5;124mwe@gmail.com\u001b[39m\u001b[38;5;124m\"\u001b[39m)\n",
      "\u001b[1;31mTypeError\u001b[0m: 'list' object is not callable"
     ]
    }
   ],
   "source": [
    "list1 = list()\n",
    "list1.append(\"us@gmail.com\")\n",
    "list1.append(\"we@gmail.com\")\n",
    "print(list1)"
   ]
  },
  {
   "cell_type": "code",
   "execution_count": 37,
   "id": "d052a14f",
   "metadata": {},
   "outputs": [
    {
     "name": "stdout",
     "output_type": "stream",
     "text": [
      "no\n"
     ]
    }
   ],
   "source": [
    "#checking if an iten is in the list\n",
    "name = [\"kruthi\",\"mad\",\"sai\",\"kavitha\"]\n",
    "if \"kruthika\" in name:\n",
    "        print(\"yes\")\n",
    "else:\n",
    "        print(\"no\")"
   ]
  },
  {
   "cell_type": "code",
   "execution_count": 3,
   "id": "6fae99fc",
   "metadata": {},
   "outputs": [
    {
     "name": "stdout",
     "output_type": "stream",
     "text": [
      "kruthi\n",
      "madu\n",
      "sai\n"
     ]
    }
   ],
   "source": [
    "#iterating lists\n",
    "name = [\"kruthi\",\"madu\",\"sai\"]\n",
    "for i in name:\n",
    "    print(i)"
   ]
  },
  {
   "cell_type": "code",
   "execution_count": 45,
   "id": "3d0111cb",
   "metadata": {},
   "outputs": [
    {
     "name": "stdout",
     "output_type": "stream",
     "text": [
      "()\n",
      "(1, 2, 3, 4)\n",
      "('kruthi', 'mad', 'sai')\n",
      "(4, 'madhu', 8, 9, 'kavi')\n",
      "kruthi\n",
      "mad\n",
      "sai\n",
      "tuple 1 is deleted\n"
     ]
    },
    {
     "ename": "NameError",
     "evalue": "name 'tuple1' is not defined",
     "output_type": "error",
     "traceback": [
      "\u001b[1;31m---------------------------------------------------------------------------\u001b[0m",
      "\u001b[1;31mNameError\u001b[0m                                 Traceback (most recent call last)",
      "Input \u001b[1;32mIn [45]\u001b[0m, in \u001b[0;36m<cell line: 15>\u001b[1;34m()\u001b[0m\n\u001b[0;32m     13\u001b[0m \u001b[38;5;28;01mdel\u001b[39;00m tuple1\n\u001b[0;32m     14\u001b[0m \u001b[38;5;28mprint\u001b[39m(\u001b[38;5;124m\"\u001b[39m\u001b[38;5;124mtuple 1 is deleted\u001b[39m\u001b[38;5;124m\"\u001b[39m)\n\u001b[1;32m---> 15\u001b[0m \u001b[38;5;28mprint\u001b[39m(\u001b[43mtuple1\u001b[49m)\n",
      "\u001b[1;31mNameError\u001b[0m: name 'tuple1' is not defined"
     ]
    }
   ],
   "source": [
    "#tuple\n",
    "tuple = ()\n",
    "tuple1 = (1,2,3,4)\n",
    "tuple2 = (\"kruthi\",\"mad\",\"sai\")\n",
    "tuple3 = (4,\"madhu\",8,9,\"kavi\")\n",
    "print(tuple)\n",
    "print(tuple1)\n",
    "print(tuple2)\n",
    "print(tuple3)\n",
    "print(tuple2[0])\n",
    "print(tuple2[1])\n",
    "print(tuple2[2])\n",
    "del tuple1\n",
    "print(\"tuple 1 is deleted\")\n",
    "print(tuple1)"
   ]
  },
  {
   "cell_type": "code",
   "execution_count": null,
   "id": "7571bfbe",
   "metadata": {},
   "outputs": [],
   "source": [
    "tuple = (1,2,3,4,5,6,7,8)\n",
    "print(2:)\n",
    "print(1:6)\n",
    "print(2::)\n",
    "print(-5)\n",
    "print(::)\n",
    "print(2:)"
   ]
  },
  {
   "cell_type": "code",
   "execution_count": null,
   "id": "dfd1b8f5",
   "metadata": {},
   "outputs": [],
   "source": []
  },
  {
   "cell_type": "code",
   "execution_count": null,
   "id": "e6ab4408",
   "metadata": {},
   "outputs": [],
   "source": []
  },
  {
   "cell_type": "code",
   "execution_count": null,
   "id": "bc70a797",
   "metadata": {},
   "outputs": [],
   "source": []
  },
  {
   "cell_type": "code",
   "execution_count": null,
   "id": "aed90583",
   "metadata": {},
   "outputs": [],
   "source": []
  },
  {
   "cell_type": "code",
   "execution_count": null,
   "id": "5764f146",
   "metadata": {},
   "outputs": [],
   "source": []
  }
 ],
 "metadata": {
  "kernelspec": {
   "display_name": "Python 3 (ipykernel)",
   "language": "python",
   "name": "python3"
  },
  "language_info": {
   "codemirror_mode": {
    "name": "ipython",
    "version": 3
   },
   "file_extension": ".py",
   "mimetype": "text/x-python",
   "name": "python",
   "nbconvert_exporter": "python",
   "pygments_lexer": "ipython3",
   "version": "3.10.4"
  }
 },
 "nbformat": 4,
 "nbformat_minor": 5
}
